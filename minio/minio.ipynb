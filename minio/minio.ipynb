{
 "cells": [
  {
   "cell_type": "markdown",
   "metadata": {},
   "source": [
    "# Minio - Основы"
   ]
  },
  {
   "cell_type": "markdown",
   "metadata": {},
   "source": [
    "Импорты"
   ]
  },
  {
   "cell_type": "code",
   "execution_count": 3,
   "metadata": {},
   "outputs": [
    {
     "data": {
      "text/plain": [
       "True"
      ]
     },
     "execution_count": 3,
     "metadata": {},
     "output_type": "execute_result"
    }
   ],
   "source": [
    "import os\n",
    "from minio import Minio\n",
    "from dotenv import load_dotenv\n",
    "\n",
    "load_dotenv(os.path.join(\"..\", '.env'))"
   ]
  },
  {
   "cell_type": "markdown",
   "metadata": {},
   "source": [
    "Переменные окружения"
   ]
  },
  {
   "cell_type": "code",
   "execution_count": 4,
   "metadata": {},
   "outputs": [],
   "source": [
    "MINIO_ENDPOINT_URL = os.getenv(\"MINIO_ENDPOINT_URL\")\n",
    "MINIO_ROOT_USER = os.getenv(\"MINIO_ROOT_USER\")\n",
    "MINIO_ROOT_PASSWORD = os.getenv(\"MINIO_ROOT_PASSWORD\")"
   ]
  },
  {
   "cell_type": "code",
   "execution_count": 5,
   "metadata": {},
   "outputs": [
    {
     "data": {
      "text/plain": [
       "'localhost:9090'"
      ]
     },
     "execution_count": 5,
     "metadata": {},
     "output_type": "execute_result"
    }
   ],
   "source": [
    "MINIO_ENDPOINT_URL"
   ]
  },
  {
   "cell_type": "markdown",
   "metadata": {},
   "source": [
    "Клиент для подключения"
   ]
  },
  {
   "cell_type": "code",
   "execution_count": 6,
   "metadata": {},
   "outputs": [],
   "source": [
    "minio_client = Minio(\n",
    "    endpoint=MINIO_ENDPOINT_URL,\n",
    "    access_key=MINIO_ROOT_USER,\n",
    "    secret_key=MINIO_ROOT_PASSWORD,\n",
    "    secure=False\n",
    ")"
   ]
  },
  {
   "cell_type": "markdown",
   "metadata": {},
   "source": [
    "Посмотрим на список бакетов"
   ]
  },
  {
   "cell_type": "code",
   "execution_count": 7,
   "metadata": {},
   "outputs": [
    {
     "data": {
      "text/plain": [
       "[Bucket('test-bucket'), Bucket('test-bucket-2'), Bucket('test-bucket-3')]"
      ]
     },
     "execution_count": 7,
     "metadata": {},
     "output_type": "execute_result"
    }
   ],
   "source": [
    "minio_client.list_buckets()"
   ]
  },
  {
   "cell_type": "markdown",
   "metadata": {},
   "source": [
    "Загрузим наш рабочий файлик"
   ]
  },
  {
   "cell_type": "code",
   "execution_count": 11,
   "metadata": {},
   "outputs": [],
   "source": [
    "# The file to upload, change this path if needed\n",
    "source_file = \"test.txt\"\n",
    "\n",
    "# The destination bucket and filename on the MinIO server\n",
    "bucket_name = \"test-bucket-4\"\n",
    "destination_file = \"uploaded_\" + source_file"
   ]
  },
  {
   "cell_type": "code",
   "execution_count": 12,
   "metadata": {},
   "outputs": [
    {
     "data": {
      "text/plain": [
       "False"
      ]
     },
     "execution_count": 12,
     "metadata": {},
     "output_type": "execute_result"
    }
   ],
   "source": [
    "found = minio_client.bucket_exists(bucket_name)\n",
    "found"
   ]
  },
  {
   "cell_type": "code",
   "execution_count": 13,
   "metadata": {},
   "outputs": [
    {
     "name": "stdout",
     "output_type": "stream",
     "text": [
      "Created bucket \"test-bucket-4\"\n"
     ]
    }
   ],
   "source": [
    "# Make the bucket if it doesn't exist.\n",
    "\n",
    "if not found:\n",
    "    minio_client.make_bucket(bucket_name)\n",
    "    print(f'Created bucket \"{bucket_name}\"')\n",
    "else:\n",
    "    print(f'Bucket \"{bucket_name}\" already exists')"
   ]
  },
  {
   "cell_type": "code",
   "execution_count": 18,
   "metadata": {},
   "outputs": [
    {
     "name": "stdout",
     "output_type": "stream",
     "text": [
      "\"test.txt\" successfully uploaded as object, \"uploaded_test.txt\" to bucket \"test-bucket-4\"\n"
     ]
    }
   ],
   "source": [
    "# Upload the file, renaming it in the process\n",
    "minio_client.fput_object(\n",
    "    bucket_name, destination_file, source_file,\n",
    ")\n",
    "print(f'\"{source_file}\" successfully uploaded as object, \"{destination_file}\" to bucket \"{bucket_name}\"')"
   ]
  },
  {
   "cell_type": "code",
   "execution_count": 15,
   "metadata": {},
   "outputs": [
    {
     "name": "stdout",
     "output_type": "stream",
     "text": [
      "\"uploaded_test.txt\" successfully deleted from bucket \"test-bucket-4\"\n"
     ]
    }
   ],
   "source": [
    "minio_client.remove_object(bucket_name, destination_file)\n",
    "print(f'\"{destination_file}\" successfully deleted from bucket \"{bucket_name}\"')"
   ]
  },
  {
   "cell_type": "code",
   "execution_count": 19,
   "metadata": {},
   "outputs": [
    {
     "name": "stdout",
     "output_type": "stream",
     "text": [
      "uploaded_test.txt\n"
     ]
    }
   ],
   "source": [
    "for i in minio_client.list_objects(\n",
    "    bucket_name,\n",
    "    prefix=\"\",\n",
    "    recursive=True\n",
    "):\n",
    "    print(i.object_name)"
   ]
  },
  {
   "cell_type": "code",
   "execution_count": null,
   "metadata": {},
   "outputs": [],
   "source": [
    "import boto3\n",
    "\n",
    "s3 = boto3.resource(\n",
    "    's3', \n",
    "    endpoint_url=f\"http://{MINIO_ENDPOINT_URL}\",\n",
    "    aws_access_key_id=MINIO_ROOT_USER,\n",
    "    aws_secret_access_key=MINIO_ROOT_PASSWORD,\n",
    ")"
   ]
  },
  {
   "cell_type": "code",
   "execution_count": 22,
   "metadata": {},
   "outputs": [
    {
     "name": "stdout",
     "output_type": "stream",
     "text": [
      "test-bucket\n",
      "test-bucket-2\n",
      "test-bucket-3\n",
      "test-bucket-4\n"
     ]
    }
   ],
   "source": [
    "for bucket in s3.buckets.all():\n",
    "    print(bucket.name)"
   ]
  },
  {
   "cell_type": "code",
   "execution_count": null,
   "metadata": {},
   "outputs": [],
   "source": [
    "with open('test.txt', 'rb') as data:\n",
    "    s3.Bucket('test-bucket-3').put_object(Key='test.txt', Body=data)"
   ]
  },
  {
   "cell_type": "code",
   "execution_count": null,
   "metadata": {},
   "outputs": [],
   "source": []
  }
 ],
 "metadata": {
  "kernelspec": {
   "display_name": ".venv (3.11.11)",
   "language": "python",
   "name": "python3"
  },
  "language_info": {
   "codemirror_mode": {
    "name": "ipython",
    "version": 3
   },
   "file_extension": ".py",
   "mimetype": "text/x-python",
   "name": "python",
   "nbconvert_exporter": "python",
   "pygments_lexer": "ipython3",
   "version": "3.11.11"
  }
 },
 "nbformat": 4,
 "nbformat_minor": 2
}
